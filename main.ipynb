{
 "cells": [
  {
   "cell_type": "markdown",
   "metadata": {},
   "source": [
    "# Laboratorio 6\n",
    " - BRANDON JAVIER REYES MORALES\n",
    " - CARLOS ALBERTO VALLADARES GUERRA\n",
    " - JUAN PABLO SOLIS ALBIZUREZJUAN PABLO SOLIS ALBIZUREZ"
   ]
  },
  {
   "cell_type": "markdown",
   "metadata": {},
   "source": [
    "## Task 1"
   ]
  },
  {
   "cell_type": "markdown",
   "metadata": {},
   "source": [
    "1. __En un juego de suma cero para dos jugadores__\n",
    "\n",
    "__¿cómo funciona el algoritmo minimax para determinar la estrategia óptima para cada jugador?__\n",
    "\n",
    "\n",
    "El algoritmo minimax evalua todas las conclusiones de un juego, seleccionando movimientos para obtener beneficios maximizados y minimizados. Se construye un árbol de decisión, donde cada nodo representa un estado del juego, utilizando una función de utilidad para valorar los estados finales, es decir, las hojas del árbol.\n",
    "\n",
    "__¿Puede explicarnos el concepto de \"valor minimax\" y su importancia en este contexto?__\n",
    "\n",
    "El valor minimax es el resultado óptimo que un jugador puede asegurar, enfrentando el oponente de manera efectiva. Este valor es relevante y confiable para enfrentar oponentes más formidables, garantizando el mejor resultado en las mejores condiciones de un juego competitivo."
   ]
  },
  {
   "cell_type": "markdown",
   "metadata": {},
   "source": [
    "2. __Compare y contraste el algoritmo minimax con la poda alfa-beta.__ \n",
    "__¿Cómo mejora la poda alfa-beta la eficiencia del algoritmo minimax, particularmente en árboles de caza grandes? Proporcione un ejemplo para ilustrar la diferencia en la complejidad computacional entre la poda minimax y alfa-beta.__\n",
    "\n",
    "El algoritmo minimax, por sí solo, evalúa todas las ramas del árbol de decisión hasta cierta profundidad. Sin embargo, en árboles de gran tamaño, esta búsqueda exhaustiva se torna ineficiente debido al crecimiento exponencial del número de nodos (con una complejidad de O(b^d), donde b representa el factor de ramificación y d la profundidad del árbol).\n",
    "\n",
    "La poda alfa-beta emerge como una técnica que optimiza la eficiencia del minimax al eliminar (“podar”) aquellas ramas del árbol que no necesitan ser analizadas, puesto que no afectan la decisión final. Así, la poda alfa-beta logra reducir de manera significativa la cantidad de nodos que deben ser evaluados.\n",
    "\n",
    "__Ejemplo:__\n",
    "Si tenemos un árbol con factor de ramificación b=10 y profundidad d=6:\n",
    "\n",
    " - Minimax estándar tendría que evaluar aproximadamente 10^(6) = 1,000,000 nodos.\n",
    " - Con poda alfa-beta, en el mejor caso, el algoritmo podría reducirse a evaluar aproximadamente 10^(3) nodos (unos 1,000 nodos aproximadamente). Esto significa una reducción drástica en el tiempo computacional y una mejora considerable en la eficiencia.\n"
   ]
  },
  {
   "cell_type": "markdown",
   "metadata": {},
   "source": [
    "3. __¿Cuál es el papel de expectiminimax en juegos con incertidumbre, como aquellos que involucran nodos de azar o información oculta?__\n",
    "\n",
    "El algoritmo Expectiminimax maneja juegos con incertidumbre incorporando nodos probabilísticos en el árbol de juego para considerar resultados aleatorios o información oculta mediante valores esperados.__\n",
    "\n",
    "__¿En qué se diferencia el expectiminimax del minimax en el manejo de resultados probabilísticos y cuáles son los desafíos clave que aborda?__\n",
    "\n",
    "Minimax asume decisiones deterministas (peor caso), mientras que Expectiminimax maneja resultados probabilísticos usando valores esperados.\n",
    "\n",
    "| Aspecto                             | Minimax                                                                 | Expectiminimax                                                                                                                                      |\n",
    "|-------------------------------------|-------------------------------------------------------------------------|-----------------------------------------------------------------------------------------------------------------------------------------------------|\n",
    "| **Manejo de resultados probabilísticos** | No maneja incertidumbre; asume decisiones deterministas de los jugadores. | Incorpora nodos de azar en el árbol de decisión, permitiendo el manejo de eventos aleatorios y resultados probabilísticos.                           |\n",
    "| **Estructura del árbol de decisión** | Alterna entre nodos \"Max\" y \"Min\" que representan las decisiones de los jugadores. | Intercala nodos \"Max\", \"Min\" y \"Chance\" (azar), donde los nodos de azar calculan el valor esperado basado en las probabilidades de eventos aleatorios. |\n",
    "| **Aplicación típica**               | Juegos deterministas con información perfecta, como el ajedrez.          | Juegos que incluyen elementos de azar o información incompleta, como el backgammon o juegos de cartas.                                              |\n",
    "| **Complejidad computacional**       | Crece exponencialmente con la profundidad del árbol y el factor de ramificación. | Similar a Minimax, pero puede ser mayor debido a la inclusión de nodos de azar y el cálculo de valores esperados.                                    |\n",
    "| **Desafíos clave**                  | - No maneja adecuadamente la incertidumbre o eventos aleatorios.<br>- Limitado a juegos deterministas. | - Manejo de la incertidumbre y eventos aleatorios.<br>- Cálculo de valores esperados en nodos de azar.<br>- Incremento en la complejidad computacional. |\n"
   ]
  },
  {
   "cell_type": "markdown",
   "metadata": {},
   "source": [
    "Referencias:\n",
    " - Michie, D. (1966). Game-playing and game-learning automata. In L. Fox (Ed.), Advances in Programming and Non-Numerical Computation (pp. 183-200). Pergamon Press.​\n",
    " - Russell, S. J., & Norvig, P. (2010). Artificial Intelligence: A Modern Approach (3rd ed.). Prentice Hall."
   ]
  }
 ],
 "metadata": {
  "language_info": {
   "name": "python"
  }
 },
 "nbformat": 4,
 "nbformat_minor": 2
}
